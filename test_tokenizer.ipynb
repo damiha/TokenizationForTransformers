{
 "cells": [
  {
   "cell_type": "code",
   "execution_count": 1,
   "id": "bd577d92-1e0e-4e9e-b783-95aef919ec24",
   "metadata": {},
   "outputs": [],
   "source": [
    "from regex_tokenizer import RegexTokenizer"
   ]
  },
  {
   "cell_type": "code",
   "execution_count": 2,
   "id": "e01e4027-eabf-44d4-800e-68e2de213b98",
   "metadata": {},
   "outputs": [],
   "source": [
    "with open(\"sample.txt\", \"r\") as f:\n",
    "\n",
    "    text = f.read()"
   ]
  },
  {
   "cell_type": "code",
   "execution_count": 3,
   "id": "b1af9c27-2c62-43b8-87d9-6adf2889bdd9",
   "metadata": {},
   "outputs": [
    {
     "name": "stdout",
     "output_type": "stream",
     "text": [
      "Emoticons have long been part of text messaging (and before that e-mail), ranging from simple smileys such as : ) and : – ) to flowers @>–>—.  Traditionally, emoticons have been pictorial representation of a feeling or expression, with that picture being constructed by combining punctuation characters and other standard text characters.  Some messaging clients automatically replace common emoticons such as smileys with a graphic image, such as :).\n",
      "\n",
      "In Japan, emoji characters were added to mobile phones to provide users with access to graphic pictograms that were richer in presentation than this character based representation.\n",
      "\n",
      "Due to interoperability considerations, emoji characters were incorporated into the Unicode 6.0 standard in 2010.\n",
      "\n",
      "While Apple had supported emoji characters in prior versions of iOS, Apple began supporting these characters using Unicode encoding in iOS5.  Emoji characters are also widely supported with Unicode encoding in Windows Phone.  A smaller number of emoji characters are supported by current Android releases (as of version 4.3).\n",
      "\n",
      "To include these emoticon/emoji characters in a text message, the text message must be sent over the air using Unicode format, more specifically UTF-16.\n",
      "\n",
      "For this reason, it is appropriate to recall the message formats and size limitations for SMS.<|endoftext|>\n",
      "\n",
      "GSM text messages are limited in size to 140 8-bit bytes of message data per message.  To facilitate longer messages, headers can be included in the SMS message data to tell the receiving client to combine multiple segmented messages and display them as a single long message.  This segmentation header (included in the user data header of the message data) requires 6 bytes, meaning that each segment of a long message can include no more than 134 bytes of message data (134 + 6 = 140).\n",
      "\n",
      "In practice, there are three types of encoding that can be used for a text message.\n",
      "\n",
      "Binary – Used for system messages, such as voice mail notification, WAP Push, MMS Notification, SIM update, etc.\n",
      "\n",
      "Text – Message can only contain characters included in the GSM 7-bit character set (see tables and info in Long SMS Text Messages and the 160 Character Limit). This restricted character set which contains English characters, plus a few symbols, and some international characters for Western Europe and Greece (Greek capital letters are included). 160 7-bit characters are compressed into 140 8-bit bytes to produce the 160 character limit that we are so familiar with. (Note: 160 * 7 = 140 * 8 ) For long messages, up to 153 7-bit characters can be present in each message segment.\n",
      "\n",
      "Unicode – For text messages that include any characters outside of the GSM 7-bit character set, UTF-16 Unicode encoding must be used for the entire message.  This encoding uses 16 bits (2 bytes) for each character (with some characters, such as many emoticons requiring 32 bits, or 4 bytes, per character).  Each and every character in a Unicode format message must be encoded using at least 16 bits, even if the character is part of the GSM 7-bit character set.  This results in a limit of 70 16-bit characters in a single Unicode format message, or up to 67 characters per segment in a long message.\n",
      "\n",
      "(Side note:  For some languages, especially Turkish, shift tables can be used as an alternative to Unicode format.  For more detail, see Shift Tables – National Language SMS in 160 characters without Unicode.)\n",
      "\n",
      "For more review of these issues, please see Long SMS Text Messages and the 160 Character Limit.<|endoftext|>\n",
      "\n",
      "NowSMS automatically decides whether to use Unicode format depending on whether or not characters present in the message are all part of the GSM character set.\n",
      "\n",
      "Emoticon and emoji symbols are outside of the GSM character set, requiring that any SMS text messages using these characters be encoded in Unicode format.\n",
      "\n",
      "As an example, the smiley emoticon 🙂 is Unicode character 0x16F03.\n",
      "\n",
      "One thing that you will immediately notice by its character code is that this character code is larger than can be represented in 16 bits.\n",
      "\n",
      "As the Unicode standard has grown, it has been determined that not all universal characters can be accommodated within the 65,536 possible codes available in a 16-bit alphabet.\n",
      "\n",
      "Characters that can be encoded in 16 bits are known as the UCS-2 alphabet.  The full Unicode character set, which includes characters 0x10000 and above is known as the UCS-4 alphabet.\n",
      "\n",
      "Unicode SMS format was originally defined as using UCS-2 encoding, but standards updates have changed this to use UTF-16 encoding instead.  Characters below 0x10000, which are part of the UCS-2 range, are encoded in UTF-16 as their standard 16-bit character value.  Characters 0x10000 and above (UCS-4) are encoded in UTF-16 with two 16-bit characters.  (Portions of the UCS-2 character space were reserved to prevent conflicts.)\n",
      "\n",
      "Our friend the smiley emoticon 🙂 is 0x00016F03 in UCS-4 (or UTF-32) encoding.  In UTF-16 encoding, it is encoded as two 16-bit characters, 0xD83D followed by 0xDE0x.\n",
      "\n",
      "But wait … it gets a little more complicated.\n",
      "\n",
      "When working with the HTTP protocol, Unicode characters are more typically encoded using UTF-8 encoding.  This is the default character set used by NowSMS HTTP interfaces.\n",
      "\n",
      "In UTF-8 encoding, 🙂 (0x16F03) is encoded as four 8-bit characters 0xF0 0x9F 0x98 0x83.\n",
      "\n",
      "NowSMS version 2013.08.30 or higher is required to support emoticon characters outside of the 16-bit UCS2 range. \n",
      "\n"
     ]
    }
   ],
   "source": [
    "print(text)"
   ]
  },
  {
   "cell_type": "code",
   "execution_count": 4,
   "id": "296f3cb6-a6c7-4540-942e-15a6d2d75090",
   "metadata": {},
   "outputs": [],
   "source": [
    "tokenizer = RegexTokenizer()"
   ]
  },
  {
   "cell_type": "code",
   "execution_count": 5,
   "id": "2b6c2692-d524-4b5e-8093-b10261e39671",
   "metadata": {},
   "outputs": [],
   "source": [
    "tokenizer.train(text, n_merges = 20)"
   ]
  },
  {
   "cell_type": "code",
   "execution_count": 6,
   "id": "1cefaec3-0340-4cb0-9634-064e40163fb0",
   "metadata": {},
   "outputs": [
    {
     "name": "stdout",
     "output_type": "stream",
     "text": [
      "(116, 101) -> 256\n",
      "(105, 110) -> 257\n",
      "(32, 116) -> 258\n",
      "(97, 114) -> 259\n",
      "(32, 99) -> 260\n",
      "(101, 115) -> 261\n",
      "(97, 99) -> 262\n",
      "(32, 97) -> 263\n",
      "(256, 114) -> 264\n",
      "(258, 104) -> 265\n",
      "(104, 259) -> 266\n",
      "(266, 262) -> 267\n",
      "(267, 264) -> 268\n",
      "(32, 115) -> 269\n",
      "(100, 101) -> 270\n",
      "(99, 111) -> 271\n",
      "(260, 268) -> 272\n",
      "(105, 116) -> 273\n",
      "(111, 114) -> 274\n",
      "(101, 110) -> 275\n"
     ]
    }
   ],
   "source": [
    "tokenizer.print_merges()"
   ]
  },
  {
   "cell_type": "code",
   "execution_count": 7,
   "id": "a7d05e37-f330-4b96-a632-986eb2a3dae2",
   "metadata": {},
   "outputs": [],
   "source": [
    "your_token_ids = tokenizer.encode(text, allow_special=\"all\")"
   ]
  },
  {
   "cell_type": "code",
   "execution_count": 8,
   "id": "cad67104-df50-43a5-9ea8-30faf8aa5057",
   "metadata": {},
   "outputs": [
    {
     "name": "stdout",
     "output_type": "stream",
     "text": [
      "[69, 109, 111, 116, 105, 271, 110, 115, 32, 104, 97, 118, 101, 32, 108, 111, 110, 103, 32, 98, 101, 275, 32, 112, 259, 116, 32, 111, 102, 32, 256, 120, 116, 32, 109, 261, 115, 97, 103, 257, 103, 32, 40, 97, 110, 100, 32, 98, 101, 102, 274, 101, 265, 97, 116, 32, 101, 45, 109, 97, 105, 108, 41, 44, 32, 114, 97, 110, 103, 257, 103, 32, 102, 114, 111, 109, 269, 105, 109, 112, 108, 101, 269, 109, 105, 108, 101, 121, 115, 269, 117, 99, 104, 263, 115, 32, 58, 32, 41, 263, 110, 100, 32, 58, 32, 226, 128, 147, 32, 41, 258, 111, 32, 102, 108, 111, 119, 101, 114, 115, 32, 64, 62, 226, 128, 147, 62, 226, 128, 148, 46, 32, 32, 84, 114, 97, 100, 273, 105, 111, 110, 97, 108, 108, 121, 44, 32, 101, 109, 111, 116, 105, 271, 110, 115, 32, 104, 97, 118, 101, 32, 98, 101, 275, 32, 112, 105, 99, 116, 274, 105, 97, 108, 32, 114, 101, 112, 114, 261, 275, 116, 97, 116, 105, 111, 110, 32, 111, 102, 263, 32, 102, 101, 101, 108, 257, 103, 32, 274, 32, 101, 120, 112, 114, 261, 115, 105, 111, 110, 44, 32, 119, 273, 104, 265, 97, 116, 32, 112, 105, 99, 116, 117, 114, 101, 32, 98, 101, 257, 103, 260, 111, 110, 115, 116, 114, 117, 99, 256, 100, 32, 98, 121, 260, 111, 109, 98, 257, 257, 103, 32, 112, 117, 110, 99, 116, 117, 97, 116, 105, 111, 110, 272, 115, 263, 110, 100, 32, 111, 116, 104, 101, 114, 269, 116, 97, 110, 100, 259, 100, 32, 256, 120, 116, 272, 115, 46, 32, 32, 83, 111, 109, 101, 32, 109, 261, 115, 97, 103, 257, 103, 260, 108, 105, 275, 116, 115, 263, 117, 116, 111, 109, 97, 116, 105, 99, 97, 108, 108, 121, 32, 114, 101, 112, 108, 262, 101, 260, 111, 109, 109, 111, 110, 32, 101, 109, 111, 116, 105, 271, 110, 115, 269, 117, 99, 104, 263, 115, 269, 109, 105, 108, 101, 121, 115, 32, 119, 273, 104, 263, 32, 103, 114, 97, 112, 104, 105, 99, 32, 105, 109, 97, 103, 101, 44, 269, 117, 99, 104, 263, 115, 32, 58, 41, 46, 10, 10, 73, 110, 32, 74, 97, 112, 97, 110, 44, 32, 101, 109, 111, 106, 105, 272, 115, 32, 119, 101, 114, 101, 263, 100, 270, 100, 258, 111, 32, 109, 111, 98, 105, 108, 101, 32, 112, 104, 111, 110, 261, 258, 111, 32, 112, 114, 111, 118, 105, 270, 32, 117, 115, 101, 114, 115, 32, 119, 273, 104, 32, 262, 99, 261, 115, 258, 111, 32, 103, 114, 97, 112, 104, 105, 99, 32, 112, 105, 99, 116, 111, 103, 114, 97, 109, 115, 265, 97, 116, 32, 119, 101, 114, 101, 32, 114, 105, 99, 104, 101, 114, 32, 257, 32, 112, 114, 261, 275, 116, 97, 116, 105, 111, 110, 265, 97, 110, 265, 105, 115, 272, 32, 98, 97, 115, 101, 100, 32, 114, 101, 112, 114, 261, 275, 116, 97, 116, 105, 111, 110, 46, 10, 10, 68, 117, 101, 258, 111, 32, 257, 264, 111, 112, 101, 114, 97, 98, 105, 108, 273, 121, 260, 111, 110, 115, 105, 270, 114, 97, 116, 105, 111, 110, 115, 44, 32, 101, 109, 111, 106, 105, 272, 115, 32, 119, 101, 114, 101, 32, 257, 271, 114, 112, 274, 97, 256, 100, 32, 257, 116, 111, 265, 101, 32, 85, 110, 105, 271, 270, 32, 54, 46, 48, 269, 116, 97, 110, 100, 259, 100, 32, 257, 32, 50, 48, 49, 48, 46, 10, 10, 87, 104, 105, 108, 101, 32, 65, 112, 112, 108, 101, 32, 104, 97, 100, 269, 117, 112, 112, 274, 256, 100, 32, 101, 109, 111, 106, 105, 272, 115, 32, 257, 32, 112, 114, 105, 274, 32, 118, 101, 114, 115, 105, 111, 110, 115, 32, 111, 102, 32, 105, 79, 83, 44, 32, 65, 112, 112, 108, 101, 32, 98, 101, 103, 97, 110, 269, 117, 112, 112, 274, 116, 257, 103, 265, 261, 101, 272, 115, 32, 117, 115, 257, 103, 32, 85, 110, 105, 271, 270, 32, 275, 271, 100, 257, 103, 32, 257, 32, 105, 79, 83, 53, 46, 32, 32, 69, 109, 111, 106, 105, 272, 115, 32, 259, 101, 263, 108, 115, 111, 32, 119, 105, 270, 108, 121, 269, 117, 112, 112, 274, 256, 100, 32, 119, 273, 104, 32, 85, 110, 105, 271, 270, 32, 275, 271, 100, 257, 103, 32, 257, 32, 87, 257, 100, 111, 119, 115, 32, 80, 104, 111, 110, 101, 46, 32, 32, 65, 269, 109, 97, 108, 108, 101, 114, 32, 110, 117, 109, 98, 101, 114, 32, 111, 102, 32, 101, 109, 111, 106, 105, 272, 115, 32, 259, 101, 269, 117, 112, 112, 274, 256, 100, 32, 98, 121, 260, 117, 114, 114, 275, 116, 32, 65, 110, 100, 114, 111, 105, 100, 32, 114, 101, 108, 101, 97, 115, 261, 32, 40, 97, 115, 32, 111, 102, 32, 118, 101, 114, 115, 105, 111, 110, 32, 52, 46, 51, 41, 46, 10, 10, 84, 111, 32, 257, 99, 108, 117, 270, 265, 261, 101, 32, 101, 109, 111, 116, 105, 271, 110, 47, 101, 109, 111, 106, 105, 272, 115, 32, 257, 263, 32, 256, 120, 116, 32, 109, 261, 115, 97, 103, 101, 44, 265, 101, 32, 256, 120, 116, 32, 109, 261, 115, 97, 103, 101, 32, 109, 117, 115, 116, 32, 98, 101, 269, 275, 116, 32, 111, 118, 101, 114, 265, 101, 263, 105, 114, 32, 117, 115, 257, 103, 32, 85, 110, 105, 271, 270, 32, 102, 274, 109, 97, 116, 44, 32, 109, 274, 101, 269, 112, 101, 99, 105, 102, 105, 99, 97, 108, 108, 121, 32, 85, 84, 70, 45, 49, 54, 46, 10, 10, 70, 274, 265, 105, 115, 32, 114, 101, 97, 115, 111, 110, 44, 32, 273, 32, 105, 115, 263, 112, 112, 114, 111, 112, 114, 105, 97, 256, 258, 111, 32, 114, 101, 99, 97, 108, 108, 265, 101, 32, 109, 261, 115, 97, 103, 101, 32, 102, 274, 109, 97, 116, 115, 263, 110, 100, 269, 105, 122, 101, 32, 108, 105, 109, 273, 97, 116, 105, 111, 110, 115, 32, 102, 274, 32, 83, 77, 83, 46, 276, 10, 10, 71, 83, 77, 32, 256, 120, 116, 32, 109, 261, 115, 97, 103, 261, 32, 259, 101, 32, 108, 105, 109, 105, 256, 100, 32, 257, 269, 105, 122, 101, 258, 111, 32, 49, 52, 48, 32, 56, 45, 98, 273, 32, 98, 121, 256, 115, 32, 111, 102, 32, 109, 261, 115, 97, 103, 101, 32, 100, 97, 116, 97, 32, 112, 101, 114, 32, 109, 261, 115, 97, 103, 101, 46, 32, 32, 84, 111, 32, 102, 262, 105, 108, 273, 97, 256, 32, 108, 111, 110, 103, 101, 114, 32, 109, 261, 115, 97, 103, 261, 44, 32, 104, 101, 97, 270, 114, 115, 260, 97, 110, 32, 98, 101, 32, 257, 99, 108, 117, 270, 100, 32, 257, 265, 101, 32, 83, 77, 83, 32, 109, 261, 115, 97, 103, 101, 32, 100, 97, 116, 97, 258, 111, 32, 256, 108, 108, 265, 101, 32, 114, 101, 99, 101, 105, 118, 257, 103, 260, 108, 105, 275, 116, 258, 111, 260, 111, 109, 98, 257, 101, 32, 109, 117, 108, 116, 105, 112, 108, 101, 269, 101, 103, 109, 275, 256, 100, 32, 109, 261, 115, 97, 103, 261, 263, 110, 100, 32, 100, 105, 115, 112, 108, 97, 121, 265, 101, 109, 263, 115, 263, 269, 257, 103, 108, 101, 32, 108, 111, 110, 103, 32, 109, 261, 115, 97, 103, 101, 46, 32, 32, 84, 104, 105, 115, 269, 101, 103, 109, 275, 116, 97, 116, 105, 111, 110, 32, 104, 101, 97, 270, 114, 32, 40, 257, 99, 108, 117, 270, 100, 32, 257, 265, 101, 32, 117, 115, 101, 114, 32, 100, 97, 116, 97, 32, 104, 101, 97, 270, 114, 32, 111, 102, 265, 101, 32, 109, 261, 115, 97, 103, 101, 32, 100, 97, 116, 97, 41, 32, 114, 101, 113, 117, 105, 114, 261, 32, 54, 32, 98, 121, 256, 115, 44, 32, 109, 101, 97, 110, 257, 103, 265, 97, 116, 32, 101, 262, 104, 269, 101, 103, 109, 275, 116, 32, 111, 102, 263, 32, 108, 111, 110, 103, 32, 109, 261, 115, 97, 103, 101, 260, 97, 110, 32, 257, 99, 108, 117, 270, 32, 110, 111, 32, 109, 274, 101, 265, 97, 110, 32, 49, 51, 52, 32, 98, 121, 256, 115, 32, 111, 102, 32, 109, 261, 115, 97, 103, 101, 32, 100, 97, 116, 97, 32, 40, 49, 51, 52, 32, 43, 32, 54, 32, 61, 32, 49, 52, 48, 41, 46, 10, 10, 73, 110, 32, 112, 114, 262, 116, 105, 99, 101, 44, 265, 101, 114, 101, 32, 259, 101, 265, 114, 101, 101, 258, 121, 112, 261, 32, 111, 102, 32, 275, 271, 100, 257, 103, 265, 97, 116, 260, 97, 110, 32, 98, 101, 32, 117, 115, 101, 100, 32, 102, 274, 263, 32, 256, 120, 116, 32, 109, 261, 115, 97, 103, 101, 46, 10, 10, 66, 257, 259, 121, 32, 226, 128, 147, 32, 85, 115, 101, 100, 32, 102, 274, 269, 121, 115, 256, 109, 32, 109, 261, 115, 97, 103, 261, 44, 269, 117, 99, 104, 263, 115, 32, 118, 111, 105, 99, 101, 32, 109, 97, 105, 108, 32, 110, 111, 116, 105, 102, 105, 99, 97, 116, 105, 111, 110, 44, 32, 87, 65, 80, 32, 80, 117, 115, 104, 44, 32, 77, 77, 83, 32, 78, 111, 116, 105, 102, 105, 99, 97, 116, 105, 111, 110, 44, 32, 83, 73, 77, 32, 117, 112, 100, 97, 256, 44, 32, 101, 116, 99, 46, 10, 10, 84, 101, 120, 116, 32, 226, 128, 147, 32, 77, 261, 115, 97, 103, 101, 260, 97, 110, 32, 111, 110, 108, 121, 260, 111, 110, 116, 97, 257, 272, 115, 32, 257, 99, 108, 117, 270, 100, 32, 257, 265, 101, 32, 71, 83, 77, 32, 55, 45, 98, 273, 272, 269, 101, 116, 32, 40, 115, 101, 101, 258, 97, 98, 108, 261, 263, 110, 100, 32, 257, 102, 111, 32, 257, 32, 76, 111, 110, 103, 32, 83, 77, 83, 32, 84, 101, 120, 116, 32, 77, 261, 115, 97, 103, 261, 263, 110, 100, 265, 101, 32, 49, 54, 48, 32, 67, 268, 32, 76, 105, 109, 273, 41, 46, 32, 84, 104, 105, 115, 32, 114, 261, 116, 114, 105, 99, 256, 100, 272, 269, 101, 116, 32, 119, 104, 105, 99, 104, 260, 111, 110, 116, 97, 257, 115, 32, 69, 110, 103, 108, 105, 115, 104, 272, 115, 44, 32, 112, 108, 117, 115, 263, 32, 102, 101, 119, 269, 121, 109, 98, 111, 108, 115, 44, 263, 110, 100, 269, 111, 109, 101, 32, 257, 264, 110, 97, 116, 105, 111, 110, 97, 108, 272, 115, 32, 102, 274, 32, 87, 261, 264, 110, 32, 69, 117, 114, 111, 112, 101, 263, 110, 100, 32, 71, 114, 101, 101, 99, 101, 32, 40, 71, 114, 101, 101, 107, 260, 97, 112, 273, 97, 108, 32, 108, 101, 116, 264, 115, 32, 259, 101, 32, 257, 99, 108, 117, 270, 100, 41, 46, 32, 49, 54, 48, 32, 55, 45, 98, 273, 272, 115, 32, 259, 101, 260, 111, 109, 112, 114, 261, 115, 101, 100, 32, 257, 116, 111, 32, 49, 52, 48, 32, 56, 45, 98, 273, 32, 98, 121, 256, 115, 258, 111, 32, 112, 114, 111, 100, 117, 99, 101, 265, 101, 32, 49, 54, 48, 272, 32, 108, 105, 109, 273, 265, 97, 116, 32, 119, 101, 32, 259, 101, 269, 111, 32, 102, 97, 109, 105, 108, 105, 259, 32, 119, 273, 104, 46, 32, 40, 78, 111, 256, 58, 32, 49, 54, 48, 32, 42, 32, 55, 32, 61, 32, 49, 52, 48, 32, 42, 32, 56, 32, 41, 32, 70, 274, 32, 108, 111, 110, 103, 32, 109, 261, 115, 97, 103, 261, 44, 32, 117, 112, 258, 111, 32, 49, 53, 51, 32, 55, 45, 98, 273, 272, 115, 260, 97, 110, 32, 98, 101, 32, 112, 114, 261, 275, 116, 32, 257, 32, 101, 262, 104, 32, 109, 261, 115, 97, 103, 101, 269, 101, 103, 109, 275, 116, 46, 10, 10, 85, 110, 105, 271, 270, 32, 226, 128, 147, 32, 70, 274, 32, 256, 120, 116, 32, 109, 261, 115, 97, 103, 261, 265, 97, 116, 32, 257, 99, 108, 117, 270, 263, 110, 121, 272, 115, 32, 111, 117, 116, 115, 105, 270, 32, 111, 102, 265, 101, 32, 71, 83, 77, 32, 55, 45, 98, 273, 272, 269, 101, 116, 44, 32, 85, 84, 70, 45, 49, 54, 32, 85, 110, 105, 271, 270, 32, 275, 271, 100, 257, 103, 32, 109, 117, 115, 116, 32, 98, 101, 32, 117, 115, 101, 100, 32, 102, 274, 265, 101, 32, 275, 116, 105, 114, 101, 32, 109, 261, 115, 97, 103, 101, 46, 32, 32, 84, 104, 105, 115, 32, 275, 271, 100, 257, 103, 32, 117, 115, 261, 32, 49, 54, 32, 98, 273, 115, 32, 40, 50, 32, 98, 121, 256, 115, 41, 32, 102, 274, 32, 101, 262, 104, 272, 32, 40, 119, 273, 104, 269, 111, 109, 101, 272, 115, 44, 269, 117, 99, 104, 263, 115, 32, 109, 97, 110, 121, 32, 101, 109, 111, 116, 105, 271, 110, 115, 32, 114, 101, 113, 117, 105, 114, 257, 103, 32, 51, 50, 32, 98, 273, 115, 44, 32, 274, 32, 52, 32, 98, 121, 256, 115, 44, 32, 112, 101, 114, 272, 41, 46, 32, 32, 69, 262, 104, 263, 110, 100, 32, 101, 118, 101, 114, 121, 272, 32, 257, 263, 32, 85, 110, 105, 271, 270, 32, 102, 274, 109, 97, 116, 32, 109, 261, 115, 97, 103, 101, 32, 109, 117, 115, 116, 32, 98, 101, 32, 275, 271, 270, 100, 32, 117, 115, 257, 103, 263, 116, 32, 108, 101, 97, 115, 116, 32, 49, 54, 32, 98, 273, 115, 44, 32, 101, 118, 275, 32, 105, 102, 265, 101, 272, 32, 105, 115, 32, 112, 259, 116, 32, 111, 102, 265, 101, 32, 71, 83, 77, 32, 55, 45, 98, 273, 272, 269, 101, 116, 46, 32, 32, 84, 104, 105, 115, 32, 114, 261, 117, 108, 116, 115, 32, 257, 263, 32, 108, 105, 109, 273, 32, 111, 102, 32, 55, 48, 32, 49, 54, 45, 98, 273, 272, 115, 32, 257, 263, 269, 257, 103, 108, 101, 32, 85, 110, 105, 271, 270, 32, 102, 274, 109, 97, 116, 32, 109, 261, 115, 97, 103, 101, 44, 32, 274, 32, 117, 112, 258, 111, 32, 54, 55, 272, 115, 32, 112, 101, 114, 269, 101, 103, 109, 275, 116, 32, 257, 263, 32, 108, 111, 110, 103, 32, 109, 261, 115, 97, 103, 101, 46, 10, 10, 40, 83, 105, 270, 32, 110, 111, 256, 58, 32, 32, 70, 274, 269, 111, 109, 101, 32, 108, 97, 110, 103, 117, 97, 103, 261, 44, 32, 261, 112, 101, 99, 105, 97, 108, 108, 121, 32, 84, 117, 114, 107, 105, 115, 104, 44, 269, 104, 105, 102, 116, 258, 97, 98, 108, 261, 260, 97, 110, 32, 98, 101, 32, 117, 115, 101, 100, 263, 115, 263, 110, 263, 108, 264, 110, 97, 116, 105, 118, 101, 258, 111, 32, 85, 110, 105, 271, 270, 32, 102, 274, 109, 97, 116, 46, 32, 32, 70, 274, 32, 109, 274, 101, 32, 270, 116, 97, 105, 108, 44, 269, 101, 101, 32, 83, 104, 105, 102, 116, 32, 84, 97, 98, 108, 261, 32, 226, 128, 147, 32, 78, 97, 116, 105, 111, 110, 97, 108, 32, 76, 97, 110, 103, 117, 97, 103, 101, 32, 83, 77, 83, 32, 257, 32, 49, 54, 48, 272, 115, 32, 119, 273, 104, 111, 117, 116, 32, 85, 110, 105, 271, 270, 46, 41, 10, 10, 70, 274, 32, 109, 274, 101, 32, 114, 101, 118, 105, 101, 119, 32, 111, 102, 265, 261, 101, 32, 105, 115, 115, 117, 261, 44, 32, 112, 108, 101, 97, 115, 101, 269, 101, 101, 32, 76, 111, 110, 103, 32, 83, 77, 83, 32, 84, 101, 120, 116, 32, 77, 261, 115, 97, 103, 261, 263, 110, 100, 265, 101, 32, 49, 54, 48, 32, 67, 268, 32, 76, 105, 109, 273, 46, 276, 10, 10, 78, 111, 119, 83, 77, 83, 263, 117, 116, 111, 109, 97, 116, 105, 99, 97, 108, 108, 121, 32, 270, 99, 105, 100, 261, 32, 119, 104, 101, 116, 104, 101, 114, 258, 111, 32, 117, 115, 101, 32, 85, 110, 105, 271, 270, 32, 102, 274, 109, 97, 116, 32, 270, 112, 275, 100, 257, 103, 32, 111, 110, 32, 119, 104, 101, 116, 104, 101, 114, 32, 274, 32, 110, 111, 116, 272, 115, 32, 112, 114, 261, 275, 116, 32, 257, 265, 101, 32, 109, 261, 115, 97, 103, 101, 32, 259, 101, 263, 108, 108, 32, 112, 259, 116, 32, 111, 102, 265, 101, 32, 71, 83, 77, 272, 269, 101, 116, 46, 10, 10, 69, 109, 111, 116, 105, 271, 110, 263, 110, 100, 32, 101, 109, 111, 106, 105, 269, 121, 109, 98, 111, 108, 115, 32, 259, 101, 32, 111, 117, 116, 115, 105, 270, 32, 111, 102, 265, 101, 32, 71, 83, 77, 272, 269, 101, 116, 44, 32, 114, 101, 113, 117, 105, 114, 257, 103, 265, 97, 116, 263, 110, 121, 32, 83, 77, 83, 32, 256, 120, 116, 32, 109, 261, 115, 97, 103, 261, 32, 117, 115, 257, 103, 265, 261, 101, 272, 115, 32, 98, 101, 32, 275, 271, 270, 100, 32, 257, 32, 85, 110, 105, 271, 270, 32, 102, 274, 109, 97, 116, 46, 10, 10, 65, 115, 263, 110, 32, 101, 120, 97, 109, 112, 108, 101, 44, 265, 101, 269, 109, 105, 108, 101, 121, 32, 101, 109, 111, 116, 105, 271, 110, 32, 240, 159, 153, 130, 32, 105, 115, 32, 85, 110, 105, 271, 270, 272, 32, 48, 120, 49, 54, 70, 48, 51, 46, 10, 10, 79, 110, 101, 265, 257, 103, 265, 97, 116, 32, 121, 111, 117, 32, 119, 105, 108, 108, 32, 105, 109, 109, 101, 100, 105, 97, 256, 108, 121, 32, 110, 111, 116, 105, 99, 101, 32, 98, 121, 32, 273, 115, 272, 260, 111, 270, 32, 105, 115, 265, 97, 116, 265, 105, 115, 272, 260, 111, 270, 32, 105, 115, 32, 108, 259, 103, 101, 114, 265, 97, 110, 260, 97, 110, 32, 98, 101, 32, 114, 101, 112, 114, 261, 275, 256, 100, 32, 257, 32, 49, 54, 32, 98, 273, 115, 46, 10, 10, 65, 115, 265, 101, 32, 85, 110, 105, 271, 270, 269, 116, 97, 110, 100, 259, 100, 32, 104, 97, 115, 32, 103, 114, 111, 119, 110, 44, 32, 273, 32, 104, 97, 115, 32, 98, 101, 275, 32, 270, 264, 109, 257, 101, 100, 265, 97, 116, 32, 110, 111, 116, 263, 108, 108, 32, 117, 110, 105, 118, 101, 114, 115, 97, 108, 272, 115, 260, 97, 110, 32, 98, 101, 32, 262, 271, 109, 109, 111, 100, 97, 256, 100, 32, 119, 273, 104, 257, 265, 101, 32, 54, 53, 44, 53, 51, 54, 32, 112, 111, 115, 115, 105, 98, 108, 101, 260, 111, 100, 261, 263, 118, 97, 105, 108, 97, 98, 108, 101, 32, 257, 263, 32, 49, 54, 45, 98, 273, 263, 108, 112, 104, 97, 98, 101, 116, 46, 10, 10, 67, 268, 115, 265, 97, 116, 260, 97, 110, 32, 98, 101, 32, 275, 271, 270, 100, 32, 257, 32, 49, 54, 32, 98, 273, 115, 32, 259, 101, 32, 107, 110, 111, 119, 110, 263, 115, 265, 101, 32, 85, 67, 83, 45, 50, 263, 108, 112, 104, 97, 98, 101, 116, 46, 32, 32, 84, 104, 101, 32, 102, 117, 108, 108, 32, 85, 110, 105, 271, 270, 272, 269, 101, 116, 44, 32, 119, 104, 105, 99, 104, 32, 257, 99, 108, 117, 100, 261, 272, 115, 32, 48, 120, 49, 48, 48, 48, 48, 263, 110, 100, 263, 98, 111, 118, 101, 32, 105, 115, 32, 107, 110, 111, 119, 110, 263, 115, 265, 101, 32, 85, 67, 83, 45, 52, 263, 108, 112, 104, 97, 98, 101, 116, 46, 10, 10, 85, 110, 105, 271, 270, 32, 83, 77, 83, 32, 102, 274, 109, 97, 116, 32, 119, 97, 115, 32, 274, 105, 103, 257, 97, 108, 108, 121, 32, 270, 102, 257, 101, 100, 263, 115, 32, 117, 115, 257, 103, 32, 85, 67, 83, 45, 50, 32, 275, 271, 100, 257, 103, 44, 32, 98, 117, 116, 269, 116, 97, 110, 100, 259, 100, 115, 32, 117, 112, 100, 97, 256, 115, 32, 104, 97, 118, 101, 260, 104, 97, 110, 103, 101, 100, 265, 105, 115, 258, 111, 32, 117, 115, 101, 32, 85, 84, 70, 45, 49, 54, 32, 275, 271, 100, 257, 103, 32, 257, 115, 256, 97, 100, 46, 32, 32, 67, 268, 115, 32, 98, 101, 108, 111, 119, 32, 48, 120, 49, 48, 48, 48, 48, 44, 32, 119, 104, 105, 99, 104, 32, 259, 101, 32, 112, 259, 116, 32, 111, 102, 265, 101, 32, 85, 67, 83, 45, 50, 32, 114, 97, 110, 103, 101, 44, 32, 259, 101, 32, 275, 271, 270, 100, 32, 257, 32, 85, 84, 70, 45, 49, 54, 263, 115, 265, 101, 105, 114, 269, 116, 97, 110, 100, 259, 100, 32, 49, 54, 45, 98, 273, 272, 32, 118, 97, 108, 117, 101, 46, 32, 32, 67, 268, 115, 32, 48, 120, 49, 48, 48, 48, 48, 263, 110, 100, 263, 98, 111, 118, 101, 32, 40, 85, 67, 83, 45, 52, 41, 32, 259, 101, 32, 275, 271, 270, 100, 32, 257, 32, 85, 84, 70, 45, 49, 54, 32, 119, 273, 104, 258, 119, 111, 32, 49, 54, 45, 98, 273, 272, 115, 46, 32, 32, 40, 80, 274, 116, 105, 111, 110, 115, 32, 111, 102, 265, 101, 32, 85, 67, 83, 45, 50, 272, 269, 112, 262, 101, 32, 119, 101, 114, 101, 32, 114, 261, 101, 114, 118, 101, 100, 258, 111, 32, 112, 114, 101, 118, 275, 116, 260, 111, 110, 102, 108, 105, 99, 116, 115, 46, 41, 10, 10, 79, 117, 114, 32, 102, 114, 105, 275, 100, 265, 101, 269, 109, 105, 108, 101, 121, 32, 101, 109, 111, 116, 105, 271, 110, 32, 240, 159, 153, 130, 32, 105, 115, 32, 48, 120, 48, 48, 48, 49, 54, 70, 48, 51, 32, 257, 32, 85, 67, 83, 45, 52, 32, 40, 274, 32, 85, 84, 70, 45, 51, 50, 41, 32, 275, 271, 100, 257, 103, 46, 32, 32, 73, 110, 32, 85, 84, 70, 45, 49, 54, 32, 275, 271, 100, 257, 103, 44, 32, 273, 32, 105, 115, 32, 275, 271, 270, 100, 263, 115, 258, 119, 111, 32, 49, 54, 45, 98, 273, 272, 115, 44, 32, 48, 120, 68, 56, 51, 68, 32, 102, 111, 108, 108, 111, 119, 101, 100, 32, 98, 121, 32, 48, 120, 68, 69, 48, 120, 46, 10, 10, 66, 117, 116, 32, 119, 97, 273, 32, 226, 128, 166, 32, 273, 32, 103, 101, 116, 115, 263, 32, 108, 273, 116, 108, 101, 32, 109, 274, 101, 260, 111, 109, 112, 108, 105, 99, 97, 256, 100, 46, 10, 10, 87, 104, 275, 32, 119, 274, 107, 257, 103, 32, 119, 273, 104, 265, 101, 32, 72, 84, 84, 80, 32, 112, 114, 111, 116, 111, 271, 108, 44, 32, 85, 110, 105, 271, 270, 272, 115, 32, 259, 101, 32, 109, 274, 101, 258, 121, 112, 105, 99, 97, 108, 108, 121, 32, 275, 271, 270, 100, 32, 117, 115, 257, 103, 32, 85, 84, 70, 45, 56, 32, 275, 271, 100, 257, 103, 46, 32, 32, 84, 104, 105, 115, 32, 105, 115, 265, 101, 32, 270, 102, 97, 117, 108, 116, 272, 269, 101, 116, 32, 117, 115, 101, 100, 32, 98, 121, 32, 78, 111, 119, 83, 77, 83, 32, 72, 84, 84, 80, 32, 257, 264, 102, 262, 261, 46, 10, 10, 73, 110, 32, 85, 84, 70, 45, 56, 32, 275, 271, 100, 257, 103, 44, 32, 240, 159, 153, 130, 32, 40, 48, 120, 49, 54, 70, 48, 51, 41, 32, 105, 115, 32, 275, 271, 270, 100, 263, 115, 32, 102, 111, 117, 114, 32, 56, 45, 98, 273, 272, 115, 32, 48, 120, 70, 48, 32, 48, 120, 57, 70, 32, 48, 120, 57, 56, 32, 48, 120, 56, 51, 46, 10, 10, 78, 111, 119, 83, 77, 83, 32, 118, 101, 114, 115, 105, 111, 110, 32, 50, 48, 49, 51, 46, 48, 56, 46, 51, 48, 32, 274, 32, 104, 105, 103, 104, 101, 114, 32, 105, 115, 32, 114, 101, 113, 117, 105, 114, 101, 100, 258, 111, 269, 117, 112, 112, 274, 116, 32, 101, 109, 111, 116, 105, 271, 110, 272, 115, 32, 111, 117, 116, 115, 105, 270, 32, 111, 102, 265, 101, 32, 49, 54, 45, 98, 273, 32, 85, 67, 83, 50, 32, 114, 97, 110, 103, 101, 46, 32, 10]\n"
     ]
    }
   ],
   "source": [
    "print(your_token_ids)"
   ]
  },
  {
   "cell_type": "code",
   "execution_count": 9,
   "id": "5a4cdad8-b92a-4cf7-bc9a-98b08d036d1c",
   "metadata": {},
   "outputs": [],
   "source": [
    "your_decoded = tokenizer.decode(your_token_ids)"
   ]
  },
  {
   "cell_type": "code",
   "execution_count": 10,
   "id": "bd8a60f0-e719-44fe-bbc0-5125b3be2c2f",
   "metadata": {},
   "outputs": [
    {
     "name": "stdout",
     "output_type": "stream",
     "text": [
      "Emoticons have long been part of text messaging (and before that e-mail), ranging from simple smileys such as : ) and : – ) to flowers @>–>—.  Traditionally, emoticons have been pictorial representation of a feeling or expression, with that picture being constructed by combining punctuation characters and other standard text characters.  Some messaging clients automatically replace common emoticons such as smileys with a graphic image, such as :).\n",
      "\n",
      "In Japan, emoji characters were added to mobile phones to provide users with access to graphic pictograms that were richer in presentation than this character based representation.\n",
      "\n",
      "Due to interoperability considerations, emoji characters were incorporated into the Unicode 6.0 standard in 2010.\n",
      "\n",
      "While Apple had supported emoji characters in prior versions of iOS, Apple began supporting these characters using Unicode encoding in iOS5.  Emoji characters are also widely supported with Unicode encoding in Windows Phone.  A smaller number of emoji characters are supported by current Android releases (as of version 4.3).\n",
      "\n",
      "To include these emoticon/emoji characters in a text message, the text message must be sent over the air using Unicode format, more specifically UTF-16.\n",
      "\n",
      "For this reason, it is appropriate to recall the message formats and size limitations for SMS.<|endoftext|>\n",
      "\n",
      "GSM text messages are limited in size to 140 8-bit bytes of message data per message.  To facilitate longer messages, headers can be included in the SMS message data to tell the receiving client to combine multiple segmented messages and display them as a single long message.  This segmentation header (included in the user data header of the message data) requires 6 bytes, meaning that each segment of a long message can include no more than 134 bytes of message data (134 + 6 = 140).\n",
      "\n",
      "In practice, there are three types of encoding that can be used for a text message.\n",
      "\n",
      "Binary – Used for system messages, such as voice mail notification, WAP Push, MMS Notification, SIM update, etc.\n",
      "\n",
      "Text – Message can only contain characters included in the GSM 7-bit character set (see tables and info in Long SMS Text Messages and the 160 Character Limit). This restricted character set which contains English characters, plus a few symbols, and some international characters for Western Europe and Greece (Greek capital letters are included). 160 7-bit characters are compressed into 140 8-bit bytes to produce the 160 character limit that we are so familiar with. (Note: 160 * 7 = 140 * 8 ) For long messages, up to 153 7-bit characters can be present in each message segment.\n",
      "\n",
      "Unicode – For text messages that include any characters outside of the GSM 7-bit character set, UTF-16 Unicode encoding must be used for the entire message.  This encoding uses 16 bits (2 bytes) for each character (with some characters, such as many emoticons requiring 32 bits, or 4 bytes, per character).  Each and every character in a Unicode format message must be encoded using at least 16 bits, even if the character is part of the GSM 7-bit character set.  This results in a limit of 70 16-bit characters in a single Unicode format message, or up to 67 characters per segment in a long message.\n",
      "\n",
      "(Side note:  For some languages, especially Turkish, shift tables can be used as an alternative to Unicode format.  For more detail, see Shift Tables – National Language SMS in 160 characters without Unicode.)\n",
      "\n",
      "For more review of these issues, please see Long SMS Text Messages and the 160 Character Limit.<|endoftext|>\n",
      "\n",
      "NowSMS automatically decides whether to use Unicode format depending on whether or not characters present in the message are all part of the GSM character set.\n",
      "\n",
      "Emoticon and emoji symbols are outside of the GSM character set, requiring that any SMS text messages using these characters be encoded in Unicode format.\n",
      "\n",
      "As an example, the smiley emoticon 🙂 is Unicode character 0x16F03.\n",
      "\n",
      "One thing that you will immediately notice by its character code is that this character code is larger than can be represented in 16 bits.\n",
      "\n",
      "As the Unicode standard has grown, it has been determined that not all universal characters can be accommodated within the 65,536 possible codes available in a 16-bit alphabet.\n",
      "\n",
      "Characters that can be encoded in 16 bits are known as the UCS-2 alphabet.  The full Unicode character set, which includes characters 0x10000 and above is known as the UCS-4 alphabet.\n",
      "\n",
      "Unicode SMS format was originally defined as using UCS-2 encoding, but standards updates have changed this to use UTF-16 encoding instead.  Characters below 0x10000, which are part of the UCS-2 range, are encoded in UTF-16 as their standard 16-bit character value.  Characters 0x10000 and above (UCS-4) are encoded in UTF-16 with two 16-bit characters.  (Portions of the UCS-2 character space were reserved to prevent conflicts.)\n",
      "\n",
      "Our friend the smiley emoticon 🙂 is 0x00016F03 in UCS-4 (or UTF-32) encoding.  In UTF-16 encoding, it is encoded as two 16-bit characters, 0xD83D followed by 0xDE0x.\n",
      "\n",
      "But wait … it gets a little more complicated.\n",
      "\n",
      "When working with the HTTP protocol, Unicode characters are more typically encoded using UTF-8 encoding.  This is the default character set used by NowSMS HTTP interfaces.\n",
      "\n",
      "In UTF-8 encoding, 🙂 (0x16F03) is encoded as four 8-bit characters 0xF0 0x9F 0x98 0x83.\n",
      "\n",
      "NowSMS version 2013.08.30 or higher is required to support emoticon characters outside of the 16-bit UCS2 range. \n",
      "\n"
     ]
    }
   ],
   "source": [
    "print(your_decoded)"
   ]
  },
  {
   "cell_type": "code",
   "execution_count": null,
   "id": "5c1eb56b-141e-4a39-bdd3-7085582adfb7",
   "metadata": {},
   "outputs": [],
   "source": []
  }
 ],
 "metadata": {
  "kernelspec": {
   "display_name": "Python 3 (ipykernel)",
   "language": "python",
   "name": "python3"
  },
  "language_info": {
   "codemirror_mode": {
    "name": "ipython",
    "version": 3
   },
   "file_extension": ".py",
   "mimetype": "text/x-python",
   "name": "python",
   "nbconvert_exporter": "python",
   "pygments_lexer": "ipython3",
   "version": "3.10.12"
  }
 },
 "nbformat": 4,
 "nbformat_minor": 5
}
